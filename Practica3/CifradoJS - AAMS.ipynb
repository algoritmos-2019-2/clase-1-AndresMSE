{
 "cells": [
  {
   "cell_type": "code",
   "execution_count": 2,
   "metadata": {},
   "outputs": [
    {
     "name": "stdout",
     "output_type": "stream",
     "text": [
      "Encriptado Julio César\n",
      "¿Cuántos saltos da el mensaje?2\n"
     ]
    }
   ],
   "source": [
    "print(\"Encriptado Julio César\")\n",
    "clave = int(input(\"¿Cuántos saltos da el mensaje?\"))\n",
    "typo = [\"a\",\"b\",\"c\",\"d\",\"e\",\"f\",\"g\",\"h\",\"i\",\"j\",\"k\",\"l\",\"m\",\"n\",\"ñ\",\"o\",\"p\",\"q\",\n",
    "        \"r\",\"s\",\"t\",\"u\",\"v\",\"w\",\"x\",\"y\",\"x\", \"z\"]\n",
    "Ntypo = []\n",
    "def cript():\n",
    "    doc = open(\"Message.txt\",\"r\") #Se crea el documento donde estará el mensaje a encriptar\n",
    "    lec = doc.read() #Nueva variable donde se leerá el archivo .txt\n",
    "    t = list(lec)  #Nueva variable donde se crea una lista con cada elemento (caracter) de doc\n",
    "    for i in t: \n",
    "        if(i.isupper()) == True:\n",
    "            i = (i.lower()) #Se convierten las mayúsculas a mínusculas para ser leidas por la lista typo\n",
    "            n = typo.index(i)\n",
    "            m = (n + clave) % 26 #Se define a m como variable intermedia de la letra recorrida con el módulo 26\n",
    "            l = typo[m]\n",
    "            l = (l.upper()) #Volvemos a hacer mayúscula nuestro caracter\n",
    "            Ntypo.append(l) #Añadimos la letra encriptada a nuestra lista para ello\n",
    "            str1 = ''.join(Ntypo) #.join une los elementos en la lista de letras encriptadas\n",
    "            \n",
    "        elif(i.isspace()) == True: #Se realiza un bloque de instrucciones similar al anterior para los espacios y saltos de línea\n",
    "            Ntypo.append(i)\n",
    "            str1 = ''.join(Ntypo)\n",
    "            \n",
    "        else:\n",
    "            n = typo.index(i) #Se realiza un bloque de instrucciones similar al primero sin la necesidad de convertir las mayúsculas\n",
    "            m = (n + clave) % 26\n",
    "            l = typo[m]\n",
    "            Ntypo.append(l)\n",
    "            str1 = ''.join(Ntypo)\n",
    "            \n",
    "        doc.close()\n",
    "        \n",
    "        def view():\n",
    "            newdoc = open(\"CriptedMessage.txt\", \"w\")\n",
    "            newdoc.write(str1)\n",
    "            newdoc.close()\n",
    "        view()\n",
    "        \n",
    "    return print(\"El mensaje encriptado es: \",str1)\n",
    "            \n",
    "    \n",
    "    "
   ]
  },
  {
   "cell_type": "code",
   "execution_count": 3,
   "metadata": {},
   "outputs": [
    {
     "name": "stdout",
     "output_type": "stream",
     "text": [
      "El mensaje encriptado es:  Guvcñqu go iwgttc\n",
      "Lwnkq Eguct ñwtkq crwpcncfq\n",
      "Gn Kñrgtkq eqttg rgnkitq\n",
      "\n",
      "\n"
     ]
    }
   ],
   "source": [
    "cript()"
   ]
  },
  {
   "cell_type": "code",
   "execution_count": 4,
   "metadata": {},
   "outputs": [
    {
     "name": "stdout",
     "output_type": "stream",
     "text": [
      "Desencriptado Julio César\n",
      "¿Cuántos saltos da el mensaje?2\n"
     ]
    }
   ],
   "source": [
    "print(\"Desencriptado Julio César\") #El siguiente código se deriva del anterior para desencriptar un mensaje en Cifrado Julio César\n",
    "clave = int(input(\"¿Cuántos saltos da el mensaje?\"))\n",
    "typo = [\"a\",\"b\",\"c\",\"d\",\"e\",\"f\",\"g\",\"h\",\"i\",\"j\",\"k\",\"l\",\"m\",\"n\",\"ñ\",\"o\",\"p\",\"q\",\n",
    "        \"r\",\"s\",\"t\",\"u\",\"v\",\"w\",\"x\",\"y\",\"x\",\"z\"]\n",
    "Ntypo = []\n",
    "def uncript():\n",
    "    doc = open(\"CriptedMessage.txt\",\"r\") #Se crea el documento donde estará el mensaje a encriptar\n",
    "    lec = doc.read() #Nueva variable donde se leerá el archivo .txt\n",
    "    t = list(lec)  #Nueva variable donde se crea una lista con cada elemento (caracter) de doc\n",
    "    for i in t: \n",
    "        if(i.isupper()) == True:\n",
    "            i = (i.lower()) #Se convierten las mayúsculas a mínusculas para ser leidas por la lista typo\n",
    "            n = typo.index(i)\n",
    "            m = (n - clave) % 26 #Se define a m como variable intermedia de la letra recorrida con el módulo 26\n",
    "            l = typo[m]\n",
    "            l = (l.upper()) #Volvemos a hacer mayúscula nuestro caracter\n",
    "            Ntypo.append(l) #Añadimos la letra encriptada a nuestra lista para ello\n",
    "            str1 = ''.join(Ntypo) #.join une los elementos en la lista de letras encriptadas\n",
    "            \n",
    "        elif(i.isspace()) == True: #Se realiza un bloque de instrucciones similar al anterior para los espacios y saltos de línea\n",
    "            Ntypo.append(i)\n",
    "            str1 = ''.join(Ntypo)\n",
    "            \n",
    "        else:\n",
    "            n = typo.index(i) #Se realiza un bloque de instrucciones similar al primero sin la necesidad de convertir las mayúsculas\n",
    "            m = (n - clave) % 26\n",
    "            l = typo[m]\n",
    "            Ntypo.append(l)\n",
    "            str1 = ''.join(Ntypo)\n",
    "            \n",
    "        doc.close()\n",
    "        \n",
    "        def view():\n",
    "            newdoc = open(\"UncriptedMessage.txt\", \"w\")\n",
    "            newdoc.write(str1)\n",
    "            newdoc.close()\n",
    "        view()\n",
    "        \n",
    "    return print(\"El mensaje desencriptado es: \",str1)\n",
    "            "
   ]
  },
  {
   "cell_type": "code",
   "execution_count": 71,
   "metadata": {},
   "outputs": [
    {
     "name": "stdout",
     "output_type": "stream",
     "text": [
      "El mensaje desencriptado es:  Estamos en guerra\n",
      "Julio Cesar murio apuñalado\n",
      "El Imperio corre peligro\n",
      "\n",
      "\n"
     ]
    }
   ],
   "source": [
    "uncript()"
   ]
  },
  {
   "cell_type": "code",
   "execution_count": null,
   "metadata": {},
   "outputs": [],
   "source": []
  }
 ],
 "metadata": {
  "kernelspec": {
   "display_name": "Python 3",
   "language": "python",
   "name": "python3"
  },
  "language_info": {
   "codemirror_mode": {
    "name": "ipython",
    "version": 3
   },
   "file_extension": ".py",
   "mimetype": "text/x-python",
   "name": "python",
   "nbconvert_exporter": "python",
   "pygments_lexer": "ipython3",
   "version": "3.7.2"
  }
 },
 "nbformat": 4,
 "nbformat_minor": 2
}
