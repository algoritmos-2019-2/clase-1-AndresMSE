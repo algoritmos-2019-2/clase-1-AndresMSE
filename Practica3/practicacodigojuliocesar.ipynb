{
 "cells": [
  {
   "cell_type": "code",
   "execution_count": 23,
   "metadata": {},
   "outputs": [
    {
     "name": "stdout",
     "output_type": "stream",
     "text": [
      "Traductor de Cifrado Julio César\n"
     ]
    }
   ],
   "source": [
    "print(\"Traductor de Cifrado Julio César\")"
   ]
  },
  {
   "cell_type": "code",
   "execution_count": 24,
   "metadata": {},
   "outputs": [
    {
     "name": "stdout",
     "output_type": "stream",
     "text": [
      "¿Cómo se llama tu archivo?\n"
     ]
    }
   ],
   "source": [
    "message = str(input(\"¿Cómo se llama tu archivo?\"))"
   ]
  },
  {
   "cell_type": "code",
   "execution_count": 1,
   "metadata": {},
   "outputs": [
    {
     "name": "stdout",
     "output_type": "stream",
     "text": [
      "¿Cuántos saltos da el código?2\n"
     ]
    }
   ],
   "source": [
    "clave = int(input(\"¿Cuántos saltos da el código?\"))"
   ]
  },
  {
   "cell_type": "code",
   "execution_count": 2,
   "metadata": {},
   "outputs": [
    {
     "ename": "FileNotFoundError",
     "evalue": "[Errno 2] No such file or directory: 'message.txt'",
     "output_type": "error",
     "traceback": [
      "\u001b[0;31m---------------------------------------------------------------------------\u001b[0m",
      "\u001b[0;31mFileNotFoundError\u001b[0m                         Traceback (most recent call last)",
      "\u001b[0;32m<ipython-input-2-e02ccc6d6714>\u001b[0m in \u001b[0;36m<module>\u001b[0;34m\u001b[0m\n\u001b[0;32m----> 1\u001b[0;31m \u001b[0mread\u001b[0m \u001b[0;34m=\u001b[0m \u001b[0mopen\u001b[0m\u001b[0;34m(\u001b[0m\u001b[0;34m\"message.txt\"\u001b[0m\u001b[0;34m,\u001b[0m \u001b[0;34m\"r\"\u001b[0m\u001b[0;34m)\u001b[0m\u001b[0;34m\u001b[0m\u001b[0;34m\u001b[0m\u001b[0m\n\u001b[0m",
      "\u001b[0;31mFileNotFoundError\u001b[0m: [Errno 2] No such file or directory: 'message.txt'"
     ]
    }
   ],
   "source": [
    "read = open(\"message.txt\", \"r\")"
   ]
  },
  {
   "cell_type": "code",
   "execution_count": 6,
   "metadata": {},
   "outputs": [],
   "source": [
    "DictionaryMAY = {\"A\":0 , \"B\":1 , \"C\":2, \"D\":3 ,\"E\": 4 , \"F\":5 ,\"G\":6 , \"H\" :7 , \"I\":8 , \"J\":9 , \"K\":10 , \"L\":11 , \n",
    "              \"M\":12 , \"N\":13 , \"Ñ\":14 , \"O\":15 , \"P\":16 , \"Q\":17 , \"R\":18 ,\n",
    "              \"S\":19 , \"T\":20  ,\"U\":21 , \"V\":22 , \"W\":23 , \"X\":24 , \"Y\":25 , \"Z\":26}"
   ]
  },
  {
   "cell_type": "code",
   "execution_count": 7,
   "metadata": {},
   "outputs": [],
   "source": [
    "DictionaryMIN = {\"a\":0 , \"b\":1 , \"c\":2, \"d\":3 ,\"e\": 4 , \"f\":5 ,\"g\":6 , \"h\" :7 , \"i\":8 , \"j\":9 , \"k\":10 , \"l\":11 , \n",
    "              \"m\":12 , \"n\":13 , \"ñ\":14 , \"o\":15 , \"p\":16 , \"q\":17 , \"r\":18 ,\n",
    "              \"s\":19 , \"t\":20  ,\"u\":21 , \"v\":22 , \"w\":23 , \"x\":24 , \"y\":25 , \"z\":26}"
   ]
  },
  {
   "cell_type": "code",
   "execution_count": 8,
   "metadata": {},
   "outputs": [],
   "source": [
    "Space = {\" \":0 ,\"/n\":1}"
   ]
  },
  {
   "cell_type": "code",
   "execution_count": 9,
   "metadata": {},
   "outputs": [],
   "source": [
    "def CfrJC(ltr):\n",
    "    if ltr in DictionaryMAY:\n",
    "        for i in range(len(DictionaryMAY)):\n",
    "            if ltr == DictionaryMAY[i]:\n",
    "                DictionaryMAY[i] = Dictionary[i +clave]\n",
    "                return DictionaryMAY[i]\n",
    "        return ltr\n",
    "                \n",
    "            \n",
    "    \n",
    "        "
   ]
  },
  {
   "cell_type": "code",
   "execution_count": 10,
   "metadata": {},
   "outputs": [
    {
     "ename": "KeyError",
     "evalue": "2",
     "output_type": "error",
     "traceback": [
      "\u001b[0;31m---------------------------------------------------------------------------\u001b[0m",
      "\u001b[0;31mKeyError\u001b[0m                                  Traceback (most recent call last)",
      "\u001b[0;32m<ipython-input-10-62392d214666>\u001b[0m in \u001b[0;36m<module>\u001b[0;34m\u001b[0m\n\u001b[0;32m----> 1\u001b[0;31m \u001b[0mDictionaryMAY\u001b[0m\u001b[0;34m[\u001b[0m\u001b[0;36m2\u001b[0m\u001b[0;34m]\u001b[0m\u001b[0;34m\u001b[0m\u001b[0;34m\u001b[0m\u001b[0m\n\u001b[0m",
      "\u001b[0;31mKeyError\u001b[0m: 2"
     ]
    }
   ],
   "source": [
    "DictionaryMAY[2]"
   ]
  },
  {
   "cell_type": "code",
   "execution_count": null,
   "metadata": {},
   "outputs": [],
   "source": []
  },
  {
   "cell_type": "code",
   "execution_count": null,
   "metadata": {},
   "outputs": [],
   "source": []
  }
 ],
 "metadata": {
  "kernelspec": {
   "display_name": "Python 3",
   "language": "python",
   "name": "python3"
  },
  "language_info": {
   "codemirror_mode": {
    "name": "ipython",
    "version": 3
   },
   "file_extension": ".py",
   "mimetype": "text/x-python",
   "name": "python",
   "nbconvert_exporter": "python",
   "pygments_lexer": "ipython3",
   "version": "3.7.2"
  }
 },
 "nbformat": 4,
 "nbformat_minor": 2
}
