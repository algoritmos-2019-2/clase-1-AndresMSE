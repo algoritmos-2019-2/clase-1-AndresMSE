{
 "cells": [
  {
   "cell_type": "code",
   "execution_count": 1,
   "metadata": {},
   "outputs": [],
   "source": [
    "#Práctica 2 - AAMS"
   ]
  },
  {
   "cell_type": "code",
   "execution_count": null,
   "metadata": {},
   "outputs": [],
   "source": [
    "### Funciones\n",
    "\n",
    "* ¿Por qué son ventajosas las funciones para tener en sus programas?\n",
    "    Porque las funciones pueden ser invocadas nuevamente en cualquier parte del código\n",
    "    \n",
    "* ¿Cuándo se ejecuta el código en una función: cuando se define la función o cuando se llama a la función?\n",
    "    cuando se llama a la función\n",
    "    \n",
    "* ¿Qué enunciado crea una función?\n",
    "    \"def\" [Espacio] Nombre de la funcion ()\n",
    "\n",
    "* ¿Cuál es la diferencia entre una función y una llamada de función?\n",
    "    Que en una defines a la funciones y a su bloque de instrucciones y la llamada simplemente invoca a la función\n",
    "    \n",
    "* ¿Cuántos ámbitos globales hay en un programa de Python? ¿Cuántos ámbitos locales?\n",
    "    \n",
    "* ¿Qué sucede con las variables en un ámbito local cuando se devuelve la llamada a la función?\n",
    "    \n",
    "* ¿Qué es un valor de retorno? ¿Puede un valor de retorno ser parte de una expresión?\n",
    "* Si una función no tiene una declaración de retorno, ¿cuál es el valor de retorno de una llamada a esa función?. \n",
    "* ¿Cómo puede forzar una variable en una función para referirse a la variable global?\n",
    "* ¿Cuál es el tipo de datos de ```None```?\n",
    "* ¿Qué hace la declaración ```import random```?\n",
    "* Si tuviera una función llamada ```randint()``` en un módulo llamado ```random```, ¿cómo lo llamaría después de importar ```random```?"
   ]
  }
 ],
 "metadata": {
  "kernelspec": {
   "display_name": "Python 3",
   "language": "python",
   "name": "python3"
  },
  "language_info": {
   "codemirror_mode": {
    "name": "ipython",
    "version": 3
   },
   "file_extension": ".py",
   "mimetype": "text/x-python",
   "name": "python",
   "nbconvert_exporter": "python",
   "pygments_lexer": "ipython3",
   "version": "3.7.2"
  }
 },
 "nbformat": 4,
 "nbformat_minor": 2
}
