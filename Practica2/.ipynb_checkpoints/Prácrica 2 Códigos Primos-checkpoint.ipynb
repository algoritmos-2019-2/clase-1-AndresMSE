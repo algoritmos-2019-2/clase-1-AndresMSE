{
 "cells": [
  {
   "cell_type": "code",
   "execution_count": null,
   "metadata": {},
   "outputs": [],
   "source": [
    "# Función que verifica si un número es primo\n",
    "def testprime(n):\n",
    "    if n < 1:\n",
    "        return False\n",
    "    if n == 1:\n",
    "        return True\n",
    "    elif n == 2:\n",
    "        return True\n",
    "    else:\n",
    "        a = []\n",
    "        for i in range(1, n):\n",
    "            if n % i == 0:\n",
    "                a.append(i)\n",
    "        if len(a) == 1:\n",
    "            return True\n",
    "        return False"
   ]
  },
  {
   "cell_type": "code",
   "execution_count": null,
   "metadata": {},
   "outputs": [],
   "source": [
    "testprime(1)"
   ]
  },
  {
   "cell_type": "code",
   "execution_count": null,
   "metadata": {},
   "outputs": [],
   "source": [
    "#Función que genera los primos menores o iguales que 𝑛∈𝕀ℕ.\n",
    "def prime(m):\n",
    "    a = []\n",
    "    for i in range(1,m +1):\n",
    "        testprime(i)\n",
    "        if testprime(i) == True:\n",
    "            a.append(i)\n",
    "    print(a)\n",
    "    return a"
   ]
  },
  {
   "cell_type": "code",
   "execution_count": null,
   "metadata": {},
   "outputs": [],
   "source": [
    "prime(27)"
   ]
  },
  {
   "cell_type": "code",
   "execution_count": null,
   "metadata": {},
   "outputs": [],
   "source": [
    "#Función que regresa una tupla con los primos gemelos menores o iguales que 𝑛∈𝕀ℕ.\n",
    "def twinPrime(i,e):\n",
    "    print(\"La tupla de primos gemelos son:\")\n",
    "    for i in range(i,e):\n",
    "        k = i +2\n",
    "        if(testprime(i) and testprime(k)):\n",
    "            print(\"{:d} y {:d}\".format(i, k))"
   ]
  },
  {
   "cell_type": "code",
   "execution_count": null,
   "metadata": {},
   "outputs": [],
   "source": [
    "twinPrime(1,100)"
   ]
  },
  {
   "cell_type": "code",
   "execution_count": null,
   "metadata": {},
   "outputs": [],
   "source": [
    "def theoremAritmetic(n):\n",
    "    x = prime(n)\n",
    "    i = 0\n",
    "    b = []\n",
    "    for i in x:\n",
    "        while i <= n:\n",
    "            b.append(i)\n",
    "            i = (i * (i +1))\n",
    "            print(b)\n",
    "        \n",
    "    return \n",
    "            \n",
    "        "
   ]
  },
  {
   "cell_type": "code",
   "execution_count": null,
   "metadata": {},
   "outputs": [],
   "source": [
    "theoremAritmetic(4)"
   ]
  },
  {
   "cell_type": "code",
   "execution_count": null,
   "metadata": {},
   "outputs": [],
   "source": []
  },
  {
   "cell_type": "code",
   "execution_count": null,
   "metadata": {},
   "outputs": [],
   "source": []
  }
 ],
 "metadata": {
  "kernelspec": {
   "display_name": "Python 3",
   "language": "python",
   "name": "python3"
  },
  "language_info": {
   "codemirror_mode": {
    "name": "ipython",
    "version": 3
   },
   "file_extension": ".py",
   "mimetype": "text/x-python",
   "name": "python",
   "nbconvert_exporter": "python",
   "pygments_lexer": "ipython3",
   "version": "3.7.2"
  }
 },
 "nbformat": 4,
 "nbformat_minor": 2
}
