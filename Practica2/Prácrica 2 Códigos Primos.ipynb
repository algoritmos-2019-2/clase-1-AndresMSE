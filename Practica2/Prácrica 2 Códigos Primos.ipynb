{
 "cells": [
  {
   "cell_type": "code",
   "execution_count": 3,
   "metadata": {},
   "outputs": [],
   "source": [
    "# Función que verifica si un número es primo\n",
    "def testprime(n):\n",
    "    if n < 1:\n",
    "        return False\n",
    "    if n == 1:\n",
    "        return True\n",
    "    elif n == 2:\n",
    "        return True\n",
    "    else:\n",
    "        a = []\n",
    "        for i in range(1, n):\n",
    "            if n % i == 0:\n",
    "                a.append(i)\n",
    "        if len(a) == 1:\n",
    "            return True\n",
    "        return False"
   ]
  },
  {
   "cell_type": "code",
   "execution_count": 4,
   "metadata": {},
   "outputs": [
    {
     "data": {
      "text/plain": [
       "True"
      ]
     },
     "execution_count": 4,
     "metadata": {},
     "output_type": "execute_result"
    }
   ],
   "source": [
    "testprime(5)"
   ]
  },
  {
   "cell_type": "code",
   "execution_count": 5,
   "metadata": {},
   "outputs": [],
   "source": [
    "#Función que genera los primos menores o iguales que 𝑛∈𝕀ℕ.\n",
    "def prime(m):\n",
    "    a = []\n",
    "    for i in range(1,m +1):\n",
    "        testprime(i)\n",
    "        if testprime(i) == True:\n",
    "            a.append(i)\n",
    "    \n",
    "    return a"
   ]
  },
  {
   "cell_type": "code",
   "execution_count": 6,
   "metadata": {},
   "outputs": [
    {
     "data": {
      "text/plain": [
       "[1, 2, 3, 5, 7, 11, 13, 17, 19, 23]"
      ]
     },
     "execution_count": 6,
     "metadata": {},
     "output_type": "execute_result"
    }
   ],
   "source": [
    "prime(27)"
   ]
  },
  {
   "cell_type": "code",
   "execution_count": 7,
   "metadata": {},
   "outputs": [],
   "source": [
    "#Función que regresa una tupla con los primos gemelos menores o iguales que 𝑛∈𝕀ℕ.\n",
    "def twinPrime(i,e):\n",
    "    print(\"La tupla de primos gemelos son:\")\n",
    "    for i in range(i,e):\n",
    "        k = i +2\n",
    "        if(testprime(i) and testprime(k)):\n",
    "            print(\"{:d} y {:d}\".format(i, k))"
   ]
  },
  {
   "cell_type": "code",
   "execution_count": 8,
   "metadata": {},
   "outputs": [
    {
     "name": "stdout",
     "output_type": "stream",
     "text": [
      "La tupla de primos gemelos son:\n",
      "1 y 3\n",
      "3 y 5\n",
      "5 y 7\n",
      "11 y 13\n",
      "17 y 19\n",
      "29 y 31\n",
      "41 y 43\n",
      "59 y 61\n",
      "71 y 73\n"
     ]
    }
   ],
   "source": [
    "twinPrime(1,100)"
   ]
  },
  {
   "cell_type": "code",
   "execution_count": 9,
   "metadata": {},
   "outputs": [],
   "source": [
    "def theoremArit(n):\n",
    "    factores = []\n",
    "    i =2\n",
    "    while i * i <= n :\n",
    "        while n % i == 0:\n",
    "            factores.append(i)\n",
    "            n = n // i\n",
    "        i = i +1\n",
    "    if n > 1:\n",
    "        factores.append(n)\n",
    "    return factores\n"
   ]
  },
  {
   "cell_type": "code",
   "execution_count": 81,
   "metadata": {},
   "outputs": [
    {
     "data": {
      "text/plain": [
       "[3, 7]"
      ]
     },
     "execution_count": 81,
     "metadata": {},
     "output_type": "execute_result"
    }
   ],
   "source": [
    "theoremArit(21)"
   ]
  },
  {
   "cell_type": "code",
   "execution_count": 11,
   "metadata": {},
   "outputs": [],
   "source": [
    "#Código que descompone un número natural en sus factores primos\n",
    "def mcm(x,y):\n",
    "    if x > y:\n",
    "        sup = x\n",
    "    else:\n",
    "        sup = y\n",
    "        \n",
    "    while(True):\n",
    "        if (sup % x == 0) and (sup % y == 0):\n",
    "            mcm = sup\n",
    "            break\n",
    "        sup += 1\n",
    "        \n",
    "    return mcm"
   ]
  },
  {
   "cell_type": "code",
   "execution_count": 12,
   "metadata": {},
   "outputs": [
    {
     "data": {
      "text/plain": [
       "6"
      ]
     },
     "execution_count": 12,
     "metadata": {},
     "output_type": "execute_result"
    }
   ],
   "source": [
    "mcm(3,6)"
   ]
  },
  {
   "cell_type": "code",
   "execution_count": 39,
   "metadata": {},
   "outputs": [],
   "source": [
    "#Función que calcula el máximo común divisor entre dos número naturales\n",
    "def MCD(x,y):\n",
    "    if x > y:\n",
    "        sup = x\n",
    "    else:\n",
    "        sup = y\n",
    "    md1 = theoremArit(x)\n",
    "    md2 = theoremArit(y)\n",
    "    MCD = 1\n",
    "    for i in range(len(md2)):\n",
    "        if md1[i] == md2[i]:\n",
    "            MCD = MCD *md1[i]\n",
    "            \n",
    "    return MCD"
   ]
  },
  {
   "cell_type": "code",
   "execution_count": 40,
   "metadata": {},
   "outputs": [
    {
     "data": {
      "text/plain": [
       "20"
      ]
     },
     "execution_count": 40,
     "metadata": {},
     "output_type": "execute_result"
    }
   ],
   "source": [
    "MCD(40,60)"
   ]
  },
  {
   "cell_type": "code",
   "execution_count": null,
   "metadata": {},
   "outputs": [],
   "source": []
  }
 ],
 "metadata": {
  "kernelspec": {
   "display_name": "Python 3",
   "language": "python",
   "name": "python3"
  },
  "language_info": {
   "codemirror_mode": {
    "name": "ipython",
    "version": 3
   },
   "file_extension": ".py",
   "mimetype": "text/x-python",
   "name": "python",
   "nbconvert_exporter": "python",
   "pygments_lexer": "ipython3",
   "version": "3.7.2"
  }
 },
 "nbformat": 4,
 "nbformat_minor": 2
}
